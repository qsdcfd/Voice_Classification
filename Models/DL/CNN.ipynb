{
  "nbformat": 4,
  "nbformat_minor": 0,
  "metadata": {
    "colab": {
      "name": "CNN",
      "provenance": [],
      "authorship_tag": "ABX9TyPaZPsBvlGM9sHXkFVVObTF"
    },
    "kernelspec": {
      "name": "python3",
      "display_name": "Python 3"
    },
    "language_info": {
      "name": "python"
    },
    "accelerator": "GPU",
    "gpuClass": "standard",
    "widgets": {
      "application/vnd.jupyter.widget-state+json": {
        "28deffd2a6df4938bde01d2c0e453f9a": {
          "model_module": "@jupyter-widgets/controls",
          "model_name": "HBoxModel",
          "model_module_version": "1.5.0",
          "state": {
            "_dom_classes": [],
            "_model_module": "@jupyter-widgets/controls",
            "_model_module_version": "1.5.0",
            "_model_name": "HBoxModel",
            "_view_count": null,
            "_view_module": "@jupyter-widgets/controls",
            "_view_module_version": "1.5.0",
            "_view_name": "HBoxView",
            "box_style": "",
            "children": [
              "IPY_MODEL_88f59566e7e34a5a8d7568f521891dda",
              "IPY_MODEL_10c99170bf4e48cfb416a47f07a760fc",
              "IPY_MODEL_d4e9f8ceff1543da8ba79de89392ad23"
            ],
            "layout": "IPY_MODEL_de7e00ef67974ed083e7e74fce4f298a"
          }
        },
        "88f59566e7e34a5a8d7568f521891dda": {
          "model_module": "@jupyter-widgets/controls",
          "model_name": "HTMLModel",
          "model_module_version": "1.5.0",
          "state": {
            "_dom_classes": [],
            "_model_module": "@jupyter-widgets/controls",
            "_model_module_version": "1.5.0",
            "_model_name": "HTMLModel",
            "_view_count": null,
            "_view_module": "@jupyter-widgets/controls",
            "_view_module_version": "1.5.0",
            "_view_name": "HTMLView",
            "description": "",
            "description_tooltip": null,
            "layout": "IPY_MODEL_07125031b22f4fc58184bde9b95a596b",
            "placeholder": "​",
            "style": "IPY_MODEL_eb2f762861004091ae8359107b1c0b53",
            "value": "100%"
          }
        },
        "10c99170bf4e48cfb416a47f07a760fc": {
          "model_module": "@jupyter-widgets/controls",
          "model_name": "FloatProgressModel",
          "model_module_version": "1.5.0",
          "state": {
            "_dom_classes": [],
            "_model_module": "@jupyter-widgets/controls",
            "_model_module_version": "1.5.0",
            "_model_name": "FloatProgressModel",
            "_view_count": null,
            "_view_module": "@jupyter-widgets/controls",
            "_view_module_version": "1.5.0",
            "_view_name": "ProgressView",
            "bar_style": "success",
            "description": "",
            "description_tooltip": null,
            "layout": "IPY_MODEL_b98354af35fb445b9be8051b836d1367",
            "max": 400,
            "min": 0,
            "orientation": "horizontal",
            "style": "IPY_MODEL_17220ea1a48a4eba9358ea680c423ebf",
            "value": 400
          }
        },
        "d4e9f8ceff1543da8ba79de89392ad23": {
          "model_module": "@jupyter-widgets/controls",
          "model_name": "HTMLModel",
          "model_module_version": "1.5.0",
          "state": {
            "_dom_classes": [],
            "_model_module": "@jupyter-widgets/controls",
            "_model_module_version": "1.5.0",
            "_model_name": "HTMLModel",
            "_view_count": null,
            "_view_module": "@jupyter-widgets/controls",
            "_view_module_version": "1.5.0",
            "_view_name": "HTMLView",
            "description": "",
            "description_tooltip": null,
            "layout": "IPY_MODEL_ac42228dd4bd49a79e9679f56f9d1f99",
            "placeholder": "​",
            "style": "IPY_MODEL_b9c2f3feaab8405791b0e699a7fceaf1",
            "value": " 400/400 [00:14&lt;00:00, 30.54it/s]"
          }
        },
        "de7e00ef67974ed083e7e74fce4f298a": {
          "model_module": "@jupyter-widgets/base",
          "model_name": "LayoutModel",
          "model_module_version": "1.2.0",
          "state": {
            "_model_module": "@jupyter-widgets/base",
            "_model_module_version": "1.2.0",
            "_model_name": "LayoutModel",
            "_view_count": null,
            "_view_module": "@jupyter-widgets/base",
            "_view_module_version": "1.2.0",
            "_view_name": "LayoutView",
            "align_content": null,
            "align_items": null,
            "align_self": null,
            "border": null,
            "bottom": null,
            "display": null,
            "flex": null,
            "flex_flow": null,
            "grid_area": null,
            "grid_auto_columns": null,
            "grid_auto_flow": null,
            "grid_auto_rows": null,
            "grid_column": null,
            "grid_gap": null,
            "grid_row": null,
            "grid_template_areas": null,
            "grid_template_columns": null,
            "grid_template_rows": null,
            "height": null,
            "justify_content": null,
            "justify_items": null,
            "left": null,
            "margin": null,
            "max_height": null,
            "max_width": null,
            "min_height": null,
            "min_width": null,
            "object_fit": null,
            "object_position": null,
            "order": null,
            "overflow": null,
            "overflow_x": null,
            "overflow_y": null,
            "padding": null,
            "right": null,
            "top": null,
            "visibility": null,
            "width": null
          }
        },
        "07125031b22f4fc58184bde9b95a596b": {
          "model_module": "@jupyter-widgets/base",
          "model_name": "LayoutModel",
          "model_module_version": "1.2.0",
          "state": {
            "_model_module": "@jupyter-widgets/base",
            "_model_module_version": "1.2.0",
            "_model_name": "LayoutModel",
            "_view_count": null,
            "_view_module": "@jupyter-widgets/base",
            "_view_module_version": "1.2.0",
            "_view_name": "LayoutView",
            "align_content": null,
            "align_items": null,
            "align_self": null,
            "border": null,
            "bottom": null,
            "display": null,
            "flex": null,
            "flex_flow": null,
            "grid_area": null,
            "grid_auto_columns": null,
            "grid_auto_flow": null,
            "grid_auto_rows": null,
            "grid_column": null,
            "grid_gap": null,
            "grid_row": null,
            "grid_template_areas": null,
            "grid_template_columns": null,
            "grid_template_rows": null,
            "height": null,
            "justify_content": null,
            "justify_items": null,
            "left": null,
            "margin": null,
            "max_height": null,
            "max_width": null,
            "min_height": null,
            "min_width": null,
            "object_fit": null,
            "object_position": null,
            "order": null,
            "overflow": null,
            "overflow_x": null,
            "overflow_y": null,
            "padding": null,
            "right": null,
            "top": null,
            "visibility": null,
            "width": null
          }
        },
        "eb2f762861004091ae8359107b1c0b53": {
          "model_module": "@jupyter-widgets/controls",
          "model_name": "DescriptionStyleModel",
          "model_module_version": "1.5.0",
          "state": {
            "_model_module": "@jupyter-widgets/controls",
            "_model_module_version": "1.5.0",
            "_model_name": "DescriptionStyleModel",
            "_view_count": null,
            "_view_module": "@jupyter-widgets/base",
            "_view_module_version": "1.2.0",
            "_view_name": "StyleView",
            "description_width": ""
          }
        },
        "b98354af35fb445b9be8051b836d1367": {
          "model_module": "@jupyter-widgets/base",
          "model_name": "LayoutModel",
          "model_module_version": "1.2.0",
          "state": {
            "_model_module": "@jupyter-widgets/base",
            "_model_module_version": "1.2.0",
            "_model_name": "LayoutModel",
            "_view_count": null,
            "_view_module": "@jupyter-widgets/base",
            "_view_module_version": "1.2.0",
            "_view_name": "LayoutView",
            "align_content": null,
            "align_items": null,
            "align_self": null,
            "border": null,
            "bottom": null,
            "display": null,
            "flex": null,
            "flex_flow": null,
            "grid_area": null,
            "grid_auto_columns": null,
            "grid_auto_flow": null,
            "grid_auto_rows": null,
            "grid_column": null,
            "grid_gap": null,
            "grid_row": null,
            "grid_template_areas": null,
            "grid_template_columns": null,
            "grid_template_rows": null,
            "height": null,
            "justify_content": null,
            "justify_items": null,
            "left": null,
            "margin": null,
            "max_height": null,
            "max_width": null,
            "min_height": null,
            "min_width": null,
            "object_fit": null,
            "object_position": null,
            "order": null,
            "overflow": null,
            "overflow_x": null,
            "overflow_y": null,
            "padding": null,
            "right": null,
            "top": null,
            "visibility": null,
            "width": null
          }
        },
        "17220ea1a48a4eba9358ea680c423ebf": {
          "model_module": "@jupyter-widgets/controls",
          "model_name": "ProgressStyleModel",
          "model_module_version": "1.5.0",
          "state": {
            "_model_module": "@jupyter-widgets/controls",
            "_model_module_version": "1.5.0",
            "_model_name": "ProgressStyleModel",
            "_view_count": null,
            "_view_module": "@jupyter-widgets/base",
            "_view_module_version": "1.2.0",
            "_view_name": "StyleView",
            "bar_color": null,
            "description_width": ""
          }
        },
        "ac42228dd4bd49a79e9679f56f9d1f99": {
          "model_module": "@jupyter-widgets/base",
          "model_name": "LayoutModel",
          "model_module_version": "1.2.0",
          "state": {
            "_model_module": "@jupyter-widgets/base",
            "_model_module_version": "1.2.0",
            "_model_name": "LayoutModel",
            "_view_count": null,
            "_view_module": "@jupyter-widgets/base",
            "_view_module_version": "1.2.0",
            "_view_name": "LayoutView",
            "align_content": null,
            "align_items": null,
            "align_self": null,
            "border": null,
            "bottom": null,
            "display": null,
            "flex": null,
            "flex_flow": null,
            "grid_area": null,
            "grid_auto_columns": null,
            "grid_auto_flow": null,
            "grid_auto_rows": null,
            "grid_column": null,
            "grid_gap": null,
            "grid_row": null,
            "grid_template_areas": null,
            "grid_template_columns": null,
            "grid_template_rows": null,
            "height": null,
            "justify_content": null,
            "justify_items": null,
            "left": null,
            "margin": null,
            "max_height": null,
            "max_width": null,
            "min_height": null,
            "min_width": null,
            "object_fit": null,
            "object_position": null,
            "order": null,
            "overflow": null,
            "overflow_x": null,
            "overflow_y": null,
            "padding": null,
            "right": null,
            "top": null,
            "visibility": null,
            "width": null
          }
        },
        "b9c2f3feaab8405791b0e699a7fceaf1": {
          "model_module": "@jupyter-widgets/controls",
          "model_name": "DescriptionStyleModel",
          "model_module_version": "1.5.0",
          "state": {
            "_model_module": "@jupyter-widgets/controls",
            "_model_module_version": "1.5.0",
            "_model_name": "DescriptionStyleModel",
            "_view_count": null,
            "_view_module": "@jupyter-widgets/base",
            "_view_module_version": "1.2.0",
            "_view_name": "StyleView",
            "description_width": ""
          }
        },
        "40b60fd9051e4f5995427a1e2b5fa0eb": {
          "model_module": "@jupyter-widgets/controls",
          "model_name": "HBoxModel",
          "model_module_version": "1.5.0",
          "state": {
            "_dom_classes": [],
            "_model_module": "@jupyter-widgets/controls",
            "_model_module_version": "1.5.0",
            "_model_name": "HBoxModel",
            "_view_count": null,
            "_view_module": "@jupyter-widgets/controls",
            "_view_module_version": "1.5.0",
            "_view_name": "HBoxView",
            "box_style": "",
            "children": [
              "IPY_MODEL_e8b179b9a3174cdaa55e929a42c76fab",
              "IPY_MODEL_79ef4291d84646b9a854cfef9ed14bc5",
              "IPY_MODEL_7a5be4c4f95741eeba303ca259005405"
            ],
            "layout": "IPY_MODEL_d49552cd5559464e97454c685dc7ab5c"
          }
        },
        "e8b179b9a3174cdaa55e929a42c76fab": {
          "model_module": "@jupyter-widgets/controls",
          "model_name": "HTMLModel",
          "model_module_version": "1.5.0",
          "state": {
            "_dom_classes": [],
            "_model_module": "@jupyter-widgets/controls",
            "_model_module_version": "1.5.0",
            "_model_name": "HTMLModel",
            "_view_count": null,
            "_view_module": "@jupyter-widgets/controls",
            "_view_module_version": "1.5.0",
            "_view_name": "HTMLView",
            "description": "",
            "description_tooltip": null,
            "layout": "IPY_MODEL_6158dc32bddf4b1299b23c62ac1db95b",
            "placeholder": "​",
            "style": "IPY_MODEL_64834f710adb4f7a83cf18cb14ef4d7e",
            "value": "100%"
          }
        },
        "79ef4291d84646b9a854cfef9ed14bc5": {
          "model_module": "@jupyter-widgets/controls",
          "model_name": "FloatProgressModel",
          "model_module_version": "1.5.0",
          "state": {
            "_dom_classes": [],
            "_model_module": "@jupyter-widgets/controls",
            "_model_module_version": "1.5.0",
            "_model_name": "FloatProgressModel",
            "_view_count": null,
            "_view_module": "@jupyter-widgets/controls",
            "_view_module_version": "1.5.0",
            "_view_name": "ProgressView",
            "bar_style": "success",
            "description": "",
            "description_tooltip": null,
            "layout": "IPY_MODEL_0493e3f2e1ce4adf9c14cc727e752d60",
            "max": 200,
            "min": 0,
            "orientation": "horizontal",
            "style": "IPY_MODEL_a8e8b49fc4164a3fb7733a503a4fe3d5",
            "value": 200
          }
        },
        "7a5be4c4f95741eeba303ca259005405": {
          "model_module": "@jupyter-widgets/controls",
          "model_name": "HTMLModel",
          "model_module_version": "1.5.0",
          "state": {
            "_dom_classes": [],
            "_model_module": "@jupyter-widgets/controls",
            "_model_module_version": "1.5.0",
            "_model_name": "HTMLModel",
            "_view_count": null,
            "_view_module": "@jupyter-widgets/controls",
            "_view_module_version": "1.5.0",
            "_view_name": "HTMLView",
            "description": "",
            "description_tooltip": null,
            "layout": "IPY_MODEL_f83bfda25c734331b1089a02aab8b380",
            "placeholder": "​",
            "style": "IPY_MODEL_4751562dfa5d4cf0a83fa4ebae0cc6fe",
            "value": " 200/200 [00:33&lt;00:00,  5.94it/s]"
          }
        },
        "d49552cd5559464e97454c685dc7ab5c": {
          "model_module": "@jupyter-widgets/base",
          "model_name": "LayoutModel",
          "model_module_version": "1.2.0",
          "state": {
            "_model_module": "@jupyter-widgets/base",
            "_model_module_version": "1.2.0",
            "_model_name": "LayoutModel",
            "_view_count": null,
            "_view_module": "@jupyter-widgets/base",
            "_view_module_version": "1.2.0",
            "_view_name": "LayoutView",
            "align_content": null,
            "align_items": null,
            "align_self": null,
            "border": null,
            "bottom": null,
            "display": null,
            "flex": null,
            "flex_flow": null,
            "grid_area": null,
            "grid_auto_columns": null,
            "grid_auto_flow": null,
            "grid_auto_rows": null,
            "grid_column": null,
            "grid_gap": null,
            "grid_row": null,
            "grid_template_areas": null,
            "grid_template_columns": null,
            "grid_template_rows": null,
            "height": null,
            "justify_content": null,
            "justify_items": null,
            "left": null,
            "margin": null,
            "max_height": null,
            "max_width": null,
            "min_height": null,
            "min_width": null,
            "object_fit": null,
            "object_position": null,
            "order": null,
            "overflow": null,
            "overflow_x": null,
            "overflow_y": null,
            "padding": null,
            "right": null,
            "top": null,
            "visibility": null,
            "width": null
          }
        },
        "6158dc32bddf4b1299b23c62ac1db95b": {
          "model_module": "@jupyter-widgets/base",
          "model_name": "LayoutModel",
          "model_module_version": "1.2.0",
          "state": {
            "_model_module": "@jupyter-widgets/base",
            "_model_module_version": "1.2.0",
            "_model_name": "LayoutModel",
            "_view_count": null,
            "_view_module": "@jupyter-widgets/base",
            "_view_module_version": "1.2.0",
            "_view_name": "LayoutView",
            "align_content": null,
            "align_items": null,
            "align_self": null,
            "border": null,
            "bottom": null,
            "display": null,
            "flex": null,
            "flex_flow": null,
            "grid_area": null,
            "grid_auto_columns": null,
            "grid_auto_flow": null,
            "grid_auto_rows": null,
            "grid_column": null,
            "grid_gap": null,
            "grid_row": null,
            "grid_template_areas": null,
            "grid_template_columns": null,
            "grid_template_rows": null,
            "height": null,
            "justify_content": null,
            "justify_items": null,
            "left": null,
            "margin": null,
            "max_height": null,
            "max_width": null,
            "min_height": null,
            "min_width": null,
            "object_fit": null,
            "object_position": null,
            "order": null,
            "overflow": null,
            "overflow_x": null,
            "overflow_y": null,
            "padding": null,
            "right": null,
            "top": null,
            "visibility": null,
            "width": null
          }
        },
        "64834f710adb4f7a83cf18cb14ef4d7e": {
          "model_module": "@jupyter-widgets/controls",
          "model_name": "DescriptionStyleModel",
          "model_module_version": "1.5.0",
          "state": {
            "_model_module": "@jupyter-widgets/controls",
            "_model_module_version": "1.5.0",
            "_model_name": "DescriptionStyleModel",
            "_view_count": null,
            "_view_module": "@jupyter-widgets/base",
            "_view_module_version": "1.2.0",
            "_view_name": "StyleView",
            "description_width": ""
          }
        },
        "0493e3f2e1ce4adf9c14cc727e752d60": {
          "model_module": "@jupyter-widgets/base",
          "model_name": "LayoutModel",
          "model_module_version": "1.2.0",
          "state": {
            "_model_module": "@jupyter-widgets/base",
            "_model_module_version": "1.2.0",
            "_model_name": "LayoutModel",
            "_view_count": null,
            "_view_module": "@jupyter-widgets/base",
            "_view_module_version": "1.2.0",
            "_view_name": "LayoutView",
            "align_content": null,
            "align_items": null,
            "align_self": null,
            "border": null,
            "bottom": null,
            "display": null,
            "flex": null,
            "flex_flow": null,
            "grid_area": null,
            "grid_auto_columns": null,
            "grid_auto_flow": null,
            "grid_auto_rows": null,
            "grid_column": null,
            "grid_gap": null,
            "grid_row": null,
            "grid_template_areas": null,
            "grid_template_columns": null,
            "grid_template_rows": null,
            "height": null,
            "justify_content": null,
            "justify_items": null,
            "left": null,
            "margin": null,
            "max_height": null,
            "max_width": null,
            "min_height": null,
            "min_width": null,
            "object_fit": null,
            "object_position": null,
            "order": null,
            "overflow": null,
            "overflow_x": null,
            "overflow_y": null,
            "padding": null,
            "right": null,
            "top": null,
            "visibility": null,
            "width": null
          }
        },
        "a8e8b49fc4164a3fb7733a503a4fe3d5": {
          "model_module": "@jupyter-widgets/controls",
          "model_name": "ProgressStyleModel",
          "model_module_version": "1.5.0",
          "state": {
            "_model_module": "@jupyter-widgets/controls",
            "_model_module_version": "1.5.0",
            "_model_name": "ProgressStyleModel",
            "_view_count": null,
            "_view_module": "@jupyter-widgets/base",
            "_view_module_version": "1.2.0",
            "_view_name": "StyleView",
            "bar_color": null,
            "description_width": ""
          }
        },
        "f83bfda25c734331b1089a02aab8b380": {
          "model_module": "@jupyter-widgets/base",
          "model_name": "LayoutModel",
          "model_module_version": "1.2.0",
          "state": {
            "_model_module": "@jupyter-widgets/base",
            "_model_module_version": "1.2.0",
            "_model_name": "LayoutModel",
            "_view_count": null,
            "_view_module": "@jupyter-widgets/base",
            "_view_module_version": "1.2.0",
            "_view_name": "LayoutView",
            "align_content": null,
            "align_items": null,
            "align_self": null,
            "border": null,
            "bottom": null,
            "display": null,
            "flex": null,
            "flex_flow": null,
            "grid_area": null,
            "grid_auto_columns": null,
            "grid_auto_flow": null,
            "grid_auto_rows": null,
            "grid_column": null,
            "grid_gap": null,
            "grid_row": null,
            "grid_template_areas": null,
            "grid_template_columns": null,
            "grid_template_rows": null,
            "height": null,
            "justify_content": null,
            "justify_items": null,
            "left": null,
            "margin": null,
            "max_height": null,
            "max_width": null,
            "min_height": null,
            "min_width": null,
            "object_fit": null,
            "object_position": null,
            "order": null,
            "overflow": null,
            "overflow_x": null,
            "overflow_y": null,
            "padding": null,
            "right": null,
            "top": null,
            "visibility": null,
            "width": null
          }
        },
        "4751562dfa5d4cf0a83fa4ebae0cc6fe": {
          "model_module": "@jupyter-widgets/controls",
          "model_name": "DescriptionStyleModel",
          "model_module_version": "1.5.0",
          "state": {
            "_model_module": "@jupyter-widgets/controls",
            "_model_module_version": "1.5.0",
            "_model_name": "DescriptionStyleModel",
            "_view_count": null,
            "_view_module": "@jupyter-widgets/base",
            "_view_module_version": "1.2.0",
            "_view_name": "StyleView",
            "description_width": ""
          }
        }
      }
    }
  },
  "cells": [
    {
      "cell_type": "code",
      "execution_count": null,
      "metadata": {
        "colab": {
          "base_uri": "https://localhost:8080/"
        },
        "id": "LaWrlzgKQ7w0",
        "outputId": "1494cf4e-5561-446e-fbe5-10a96c80fcf1"
      },
      "outputs": [
        {
          "output_type": "stream",
          "name": "stdout",
          "text": [
            "Mounted at /content/drive\n"
          ]
        }
      ],
      "source": [
        "import pandas as pd\n",
        "import numpy as np\n",
        "import matplotlib.pyplot as plt\n",
        "import seaborn as sns\n",
        "import os\n",
        "import warnings\n",
        "import tensorflow as tf\n",
        "from tqdm import tqdm\n",
        "from glob import glob\n",
        "from google.colab import drive\n",
        "\n",
        "import librosa\n",
        "import librosa.display as dsp\n",
        "import IPython.display as ipd\n",
        "\n",
        "warnings.filterwarnings(action='ignore')\n",
        "drive.mount('/content/drive')\n",
        "\n"
      ]
    },
    {
      "cell_type": "code",
      "source": [
        "import random\n",
        "\n",
        "def seed_everything(seed):\n",
        "    random.seed(seed)\n",
        "    os.environ['PYTHONHASHSEED'] = str(seed)\n",
        "    np.random.seed(seed)\n",
        "    tf.random.set_seed(seed)\n",
        "\n",
        "seed_everything(813)\n",
        "\n",
        "train = pd.read_csv('/content/drive/MyDrive/drive-download-20220614T024615Z-001/train.csv')\n",
        "test = pd.read_csv('/content/drive/MyDrive/drive-download-20220614T024615Z-001/test.csv')\n",
        "submission = pd.read_csv('/content/drive/MyDrive/drive-download-20220614T024615Z-001/sample_submission.csv')"
      ],
      "metadata": {
        "id": "HD_JsuiARII2"
      },
      "execution_count": null,
      "outputs": []
    },
    {
      "cell_type": "code",
      "source": [
        "sr = 22050"
      ],
      "metadata": {
        "id": "ugcaHQIVRILW"
      },
      "execution_count": null,
      "outputs": []
    },
    {
      "cell_type": "code",
      "source": [
        "for i in os.listdir('/content/drive/MyDrive/Dacon/train')[:3]:\n",
        "  print(f'{i}')\n",
        "  data, sample_rate = librosa.load(f'/content/drive/MyDrive/Dacon/train/{i}', sr=sr)\n",
        "  print('sample_rate:', sample_rate, ', audio shape:', data.shape)\n",
        "  print('length:', data.shape[0]/float(sample_rate), 'secs')\n",
        "  print('\\n')"
      ],
      "metadata": {
        "colab": {
          "base_uri": "https://localhost:8080/"
        },
        "id": "9TCr6nnkRIQe",
        "outputId": "b5620964-5114-418c-ded1-ce9751e52b09"
      },
      "execution_count": null,
      "outputs": [
        {
          "output_type": "stream",
          "name": "stdout",
          "text": [
            "012.wav\n",
            "sample_rate: 22050 , audio shape: (11910,)\n",
            "length: 0.5401360544217687 secs\n",
            "\n",
            "\n",
            "001.wav\n",
            "sample_rate: 22050 , audio shape: (14046,)\n",
            "length: 0.6370068027210884 secs\n",
            "\n",
            "\n",
            "005.wav\n",
            "sample_rate: 22050 , audio shape: (10753,)\n",
            "length: 0.48766439909297055 secs\n",
            "\n",
            "\n"
          ]
        }
      ]
    },
    {
      "cell_type": "code",
      "source": [
        "from tqdm.notebook import tqdm\n",
        "\n",
        "train_file_names = train[\"file_name\"].to_numpy()\n",
        "test_file_names = test[\"file_name\"].to_numpy()\n",
        "target = train[\"label\"].to_numpy()\n",
        "\n",
        "def load_audio(file_names, target, path):   \n",
        "  audios = []\n",
        "  for audio in tqdm(file_names):\n",
        "    # librosa를 이용하여 데이터 로드\n",
        "    an_audio, _ = librosa.load(path+audio, sr=sr)\n",
        "    audio_array = np.array(an_audio)\n",
        "    audios.append(audio_array)\n",
        "  audios = np.array(audios)\n",
        "\n",
        "  targets = target.copy()\n",
        "\n",
        "  return audios, targets\n"
      ],
      "metadata": {
        "id": "XWe6OmviRITF"
      },
      "execution_count": null,
      "outputs": []
    },
    {
      "cell_type": "code",
      "source": [
        "audio_train, target_train = load_audio(train_file_names, target, path='/content/drive/MyDrive/Dacon/train/')\n",
        "audio_test, _ = load_audio(test_file_names, np.array([None]), path='/content/drive/MyDrive/test/')"
      ],
      "metadata": {
        "colab": {
          "base_uri": "https://localhost:8080/",
          "height": 81,
          "referenced_widgets": [
            "28deffd2a6df4938bde01d2c0e453f9a",
            "88f59566e7e34a5a8d7568f521891dda",
            "10c99170bf4e48cfb416a47f07a760fc",
            "d4e9f8ceff1543da8ba79de89392ad23",
            "de7e00ef67974ed083e7e74fce4f298a",
            "07125031b22f4fc58184bde9b95a596b",
            "eb2f762861004091ae8359107b1c0b53",
            "b98354af35fb445b9be8051b836d1367",
            "17220ea1a48a4eba9358ea680c423ebf",
            "ac42228dd4bd49a79e9679f56f9d1f99",
            "b9c2f3feaab8405791b0e699a7fceaf1",
            "40b60fd9051e4f5995427a1e2b5fa0eb",
            "e8b179b9a3174cdaa55e929a42c76fab",
            "79ef4291d84646b9a854cfef9ed14bc5",
            "7a5be4c4f95741eeba303ca259005405",
            "d49552cd5559464e97454c685dc7ab5c",
            "6158dc32bddf4b1299b23c62ac1db95b",
            "64834f710adb4f7a83cf18cb14ef4d7e",
            "0493e3f2e1ce4adf9c14cc727e752d60",
            "a8e8b49fc4164a3fb7733a503a4fe3d5",
            "f83bfda25c734331b1089a02aab8b380",
            "4751562dfa5d4cf0a83fa4ebae0cc6fe"
          ]
        },
        "id": "LMbxtqXaRIVc",
        "outputId": "fa3c4e3d-14c2-4bc9-f297-65d6a75d3e92"
      },
      "execution_count": null,
      "outputs": [
        {
          "output_type": "display_data",
          "data": {
            "text/plain": [
              "  0%|          | 0/400 [00:00<?, ?it/s]"
            ],
            "application/vnd.jupyter.widget-view+json": {
              "version_major": 2,
              "version_minor": 0,
              "model_id": "28deffd2a6df4938bde01d2c0e453f9a"
            }
          },
          "metadata": {}
        },
        {
          "output_type": "display_data",
          "data": {
            "text/plain": [
              "  0%|          | 0/200 [00:00<?, ?it/s]"
            ],
            "application/vnd.jupyter.widget-view+json": {
              "version_major": 2,
              "version_minor": 0,
              "model_id": "40b60fd9051e4f5995427a1e2b5fa0eb"
            }
          },
          "metadata": {}
        }
      ]
    },
    {
      "cell_type": "code",
      "source": [
        "plt.figure(figsize=(14,14))\n",
        "ax = plt.subplot(2, 1, 1)\n",
        "\n",
        "\n",
        "ax = plt.subplot(2, 1, 1)\n",
        "S = librosa.feature.melspectrogram(audio_train[15], sr=sr, n_mels=40)\n",
        "log_S = librosa.power_to_db(S, ref=np.max)\n",
        "librosa.display.specshow(log_S, sr=sr)\n",
        "plt.title('Mel spectrogram')\n",
        "plt.xlabel(\"Time\")\n",
        "plt.ylabel(\"Frequency\")\n",
        "plt.colorbar(format='%+2.0f dB')\n",
        "\n",
        "ax = plt.subplot(2, 1, 2)\n",
        "mfcc = librosa.feature.mfcc(audio_train[15], sr=sr, n_mels=40)\n",
        "librosa.display.specshow(mfcc, sr=sr)\n",
        "plt.title('MFCC')\n",
        "plt.xlabel(\"Time\")\n",
        "plt.ylabel(\"MFCC coeffis\")\n",
        "plt.colorbar()"
      ],
      "metadata": {
        "colab": {
          "base_uri": "https://localhost:8080/",
          "height": 710
        },
        "id": "hG0WsYoYRIX0",
        "outputId": "4cc4682c-f248-4087-d651-7c29e10bd0bd"
      },
      "execution_count": null,
      "outputs": [
        {
          "output_type": "execute_result",
          "data": {
            "text/plain": [
              "<matplotlib.colorbar.Colorbar at 0x7f4c38d8f6d0>"
            ]
          },
          "metadata": {},
          "execution_count": 7
        },
        {
          "output_type": "display_data",
          "data": {
            "text/plain": [
              "<Figure size 1008x1008 with 4 Axes>"
            ],
            "image/png": "[encoded data removed]"
          },
          "metadata": {
            "needs_background": "light"
          }
        }
      ]
    },
    {
      "cell_type": "code",
      "source": [
        "def random_pad(mels, pad_size, mfcc=True):\n",
        "\n",
        "  pad_width = pad_size - mels.shape[1]\n",
        "  rand = np.random.rand()\n",
        "  left = int(pad_width * rand)\n",
        "  right = pad_width - left\n",
        "  \n",
        "  if mfcc:\n",
        "    mels = np.pad(mels, pad_width=((0,0), (left, right)), mode='constant')\n",
        "    local_max, local_min = mels.max(), mels.min()\n",
        "    mels = (mels - local_min)/(local_max - local_min)\n",
        "  else:\n",
        "    local_max, local_min = mels.max(), mels.min()\n",
        "    mels = (mels - local_min)/(local_max - local_min)\n",
        "    mels = np.pad(mels, pad_width=((0,0), (left, right)), mode='constant')\n",
        "\n",
        "\n",
        "  return mels"
      ],
      "metadata": {
        "id": "QDclysJlRIcr"
      },
      "execution_count": null,
      "outputs": []
    },
    {
      "cell_type": "code",
      "source": [
        "size = 50\n",
        "pad_size = 50\n",
        "repeat_size = 5"
      ],
      "metadata": {
        "id": "1tQJikOORIf_"
      },
      "execution_count": null,
      "outputs": []
    },
    {
      "cell_type": "code",
      "source": [
        "audio_mels = []\n",
        "audio_mfcc = []\n",
        "\n",
        "for y in audio_train:\n",
        "  mels = librosa.feature.melspectrogram(y, sr=sr, n_mels=size)\n",
        "  mels = librosa.power_to_db(mels, ref=np.max)\n",
        "\n",
        "  mfcc = librosa.feature.mfcc(y, sr=sr, n_mfcc=size)\n",
        "  \n",
        "  for i in range(repeat_size):\n",
        "    audio_mels.append(random_pad(mels, pad_size=pad_size, mfcc=False))\n",
        "    audio_mfcc.append(random_pad(mfcc, pad_size=pad_size, mfcc=True))"
      ],
      "metadata": {
        "id": "qCqzyU6zRIiX"
      },
      "execution_count": null,
      "outputs": []
    },
    {
      "cell_type": "code",
      "source": [
        "audio_mels_array_test = []\n",
        "audio_mfcc_array_test = []\n",
        "\n",
        "for y in audio_test:\n",
        "  mels = librosa.feature.melspectrogram(y, sr=sr, n_mels=size)\n",
        "  mels = librosa.power_to_db(mels, ref=np.max)\n",
        "\n",
        "\n",
        "  mfcc = librosa.feature.mfcc(y, sr=sr, n_mfcc=size)\n",
        "\n",
        "  audio_mels_array_test.append(random_pad(mels, pad_size=pad_size, mfcc=False))\n",
        "  audio_mfcc_array_test.append(random_pad(mfcc, pad_size=pad_size, mfcc=True))"
      ],
      "metadata": {
        "id": "AQPdX0tGRIlQ"
      },
      "execution_count": null,
      "outputs": []
    },
    {
      "cell_type": "code",
      "source": [
        "audio_mels_array = np.array(audio_mels, np.float64)\n",
        "audio_mfcc_array = np.array(audio_mfcc, np.float64)\n",
        "\n",
        "audio_mels_array_test = np.array(audio_mels_array_test, np.float64)\n",
        "audio_mfcc_array_test = np.array(audio_mfcc_array_test, np.float64)"
      ],
      "metadata": {
        "id": "0mCw9OxKRls_"
      },
      "execution_count": null,
      "outputs": []
    },
    {
      "cell_type": "code",
      "source": [
        "target_num = 2\n",
        "target_num_idx = np.where(target_train==target_num)[0]\n",
        "target_num_idx = np.random.choice(target_num_idx,16)\n",
        "\n",
        "plt.figure(figsize=(10, 10))\n",
        "ax = plt.subplot(4, 4, 1)\n",
        "\n",
        "for i, idx in enumerate(target_num_idx):\n",
        "  ax = plt.subplot(4, 4, i + 1)\n",
        "  if i<8:\n",
        "    plt.imshow(audio_mels_array[idx], aspect='auto')\n",
        "  else:\n",
        "    plt.imshow(audio_mfcc_array[idx], aspect='auto')\n"
      ],
      "metadata": {
        "colab": {
          "base_uri": "https://localhost:8080/",
          "height": 594
        },
        "id": "cL8b_U-rRlvD",
        "outputId": "df8c6254-3503-42c8-a7b6-3393bae17350"
      },
      "execution_count": null,
      "outputs": [
        {
          "output_type": "display_data",
          "data": {
            "text/plain": [
              "<Figure size 720x720 with 16 Axes>"
            ],
            "image/png": "[encoded data removed]"
          },
          "metadata": {
            "needs_background": "light"
          }
        }
      ]
    },
    {
      "cell_type": "code",
      "source": [
        "from sklearn.model_selection import train_test_split\n",
        "\n",
        "repeated_target = np.repeat(target_train,repeat_size)"
      ],
      "metadata": {
        "id": "tUHUXO7-RlxO"
      },
      "execution_count": null,
      "outputs": []
    },
    {
      "cell_type": "code",
      "source": [
        "from tensorflow.keras.models import Sequential, Model\n",
        "from tensorflow.keras.layers import Dense, Dropout, Flatten, GlobalAveragePooling2D, Conv2D, MaxPool2D, ZeroPadding2D, BatchNormalization, Input, DepthwiseConv2D, Add, LeakyReLU, ReLU\n",
        "from tensorflow.keras.optimizers import Adam, SGD"
      ],
      "metadata": {
        "id": "apL4tc-RRl52"
      },
      "execution_count": null,
      "outputs": []
    },
    {
      "cell_type": "code",
      "source": [
        "def residual_block(x, filters_in, filters_out):\n",
        "    shortcut = x\n",
        "    x = BatchNormalization()(x)\n",
        "    x = ReLU()(x)\n",
        "    x = Conv2D(filters_in, kernel_size=(1, 1), strides=(1, 1), padding=\"same\",kernel_initializer='he_normal')(x)\n",
        "\n",
        "    x = BatchNormalization()(x)\n",
        "    x = ReLU()(x)    \n",
        "    x = Conv2D(filters_in, kernel_size=(3, 3), strides=(1, 1), padding=\"same\",kernel_initializer='he_normal')(x)\n",
        "\n",
        "    x = BatchNormalization()(x)\n",
        "    x = ReLU()(x)  \n",
        "    x = Conv2D(filters_out, kernel_size=(1, 1), strides=(1, 1), padding=\"same\",kernel_initializer='he_normal')(x)\n",
        "\n",
        "    shortcut_channel = x.shape.as_list()[0]\n",
        "    \n",
        "    if shortcut_channel != filters_out:\n",
        "        shortcut = Conv2D(filters_out, kernel_size=(1, 1), strides=(1, 1), padding=\"same\",kernel_initializer='he_normal')(shortcut)\n",
        "        \n",
        "    x = Add()([x, shortcut])\n",
        "    return ReLU()(x)"
      ],
      "metadata": {
        "id": "H_KUTxeRRl74"
      },
      "execution_count": null,
      "outputs": []
    },
    {
      "cell_type": "code",
      "source": [
        "def build_model():\n",
        "\n",
        "  inputs = tf.keras.layers.Input(shape=(size,pad_size,1))\n",
        "\n",
        "  outputs = Conv2D(16,(3,3),activation=None,padding='same',kernel_initializer='he_normal')(inputs)\n",
        "  outputs = BatchNormalization()(outputs)\n",
        "  outputs = ReLU()(outputs)\n",
        "  outputs = MaxPool2D((2,2))(outputs)\n",
        "\n",
        "  outputs = residual_block(outputs, 16, 32)\n",
        "  outputs = MaxPool2D((2,2))(outputs)\n",
        "  outputs = residual_block(outputs, 32, 32)\n",
        "  # outputs = residual_block(outputs, 32, 32)\n",
        "  outputs = residual_block(outputs, 32, 64)\n",
        "  outputs = MaxPool2D((2,2))(outputs)\n",
        "  outputs = residual_block(outputs, 64, 64)\n",
        "  # outputs = residual_block(outputs, 64, 64)\n",
        "  # outputs = MaxPool2D((2,2))(outputs)\n",
        "\n",
        "  outputs = GlobalAveragePooling2D()(outputs)\n",
        "  # outputs = Flatten()(outputs)\n",
        "\n",
        "  outputs = Dense(32,activation=None,kernel_initializer='he_normal')(outputs)\n",
        "  outputs = BatchNormalization()(outputs)\n",
        "  outputs = ReLU()(outputs)\n",
        "  outputs = Dropout(0.5)(outputs)\n",
        "\n",
        "  outputs = Dense(10,activation='softmax')(outputs)\n",
        "  model = Model(inputs=inputs, outputs=outputs)\n",
        "  model.compile(optimizer='adam',\n",
        "              loss='sparse_categorical_crossentropy',\n",
        "              metrics=['accuracy'])\n",
        "  \n",
        "  return model\n",
        "\n",
        "model = build_model()\n",
        "model.summary()"
      ],
      "metadata": {
        "colab": {
          "base_uri": "https://localhost:8080/"
        },
        "id": "HlcRfMuERwq4",
        "outputId": "8db3c4f7-0d0a-496d-f330-b913518d084f"
      },
      "execution_count": null,
      "outputs": [
        {
          "output_type": "stream",
          "name": "stdout",
          "text": [
            "Model: \"model\"\n",
            "__________________________________________________________________________________________________\n",
            " Layer (type)                   Output Shape         Param #     Connected to                     \n",
            "==================================================================================================\n",
            " input_1 (InputLayer)           [(None, 50, 50, 1)]  0           []                               \n",
            "                                                                                                  \n",
            " conv2d (Conv2D)                (None, 50, 50, 16)   160         ['input_1[0][0]']                \n",
            "                                                                                                  \n",
            " batch_normalization (BatchNorm  (None, 50, 50, 16)  64          ['conv2d[0][0]']                 \n",
            " alization)                                                                                       \n",
            "                                                                                                  \n",
            " re_lu (ReLU)                   (None, 50, 50, 16)   0           ['batch_normalization[0][0]']    \n",
            "                                                                                                  \n",
            " max_pooling2d (MaxPooling2D)   (None, 25, 25, 16)   0           ['re_lu[0][0]']                  \n",
            "                                                                                                  \n",
            " batch_normalization_1 (BatchNo  (None, 25, 25, 16)  64          ['max_pooling2d[0][0]']          \n",
            " rmalization)                                                                                     \n",
            "                                                                                                  \n",
            " re_lu_1 (ReLU)                 (None, 25, 25, 16)   0           ['batch_normalization_1[0][0]']  \n",
            "                                                                                                  \n",
            " conv2d_1 (Conv2D)              (None, 25, 25, 16)   272         ['re_lu_1[0][0]']                \n",
            "                                                                                                  \n",
            " batch_normalization_2 (BatchNo  (None, 25, 25, 16)  64          ['conv2d_1[0][0]']               \n",
            " rmalization)                                                                                     \n",
            "                                                                                                  \n",
            " re_lu_2 (ReLU)                 (None, 25, 25, 16)   0           ['batch_normalization_2[0][0]']  \n",
            "                                                                                                  \n",
            " conv2d_2 (Conv2D)              (None, 25, 25, 16)   2320        ['re_lu_2[0][0]']                \n",
            "                                                                                                  \n",
            " batch_normalization_3 (BatchNo  (None, 25, 25, 16)  64          ['conv2d_2[0][0]']               \n",
            " rmalization)                                                                                     \n",
            "                                                                                                  \n",
            " re_lu_3 (ReLU)                 (None, 25, 25, 16)   0           ['batch_normalization_3[0][0]']  \n",
            "                                                                                                  \n",
            " conv2d_3 (Conv2D)              (None, 25, 25, 32)   544         ['re_lu_3[0][0]']                \n",
            "                                                                                                  \n",
            " conv2d_4 (Conv2D)              (None, 25, 25, 32)   544         ['max_pooling2d[0][0]']          \n",
            "                                                                                                  \n",
            " add (Add)                      (None, 25, 25, 32)   0           ['conv2d_3[0][0]',               \n",
            "                                                                  'conv2d_4[0][0]']               \n",
            "                                                                                                  \n",
            " re_lu_4 (ReLU)                 (None, 25, 25, 32)   0           ['add[0][0]']                    \n",
            "                                                                                                  \n",
            " max_pooling2d_1 (MaxPooling2D)  (None, 12, 12, 32)  0           ['re_lu_4[0][0]']                \n",
            "                                                                                                  \n",
            " batch_normalization_4 (BatchNo  (None, 12, 12, 32)  128         ['max_pooling2d_1[0][0]']        \n",
            " rmalization)                                                                                     \n",
            "                                                                                                  \n",
            " re_lu_5 (ReLU)                 (None, 12, 12, 32)   0           ['batch_normalization_4[0][0]']  \n",
            "                                                                                                  \n",
            " conv2d_5 (Conv2D)              (None, 12, 12, 32)   1056        ['re_lu_5[0][0]']                \n",
            "                                                                                                  \n",
            " batch_normalization_5 (BatchNo  (None, 12, 12, 32)  128         ['conv2d_5[0][0]']               \n",
            " rmalization)                                                                                     \n",
            "                                                                                                  \n",
            " re_lu_6 (ReLU)                 (None, 12, 12, 32)   0           ['batch_normalization_5[0][0]']  \n",
            "                                                                                                  \n",
            " conv2d_6 (Conv2D)              (None, 12, 12, 32)   9248        ['re_lu_6[0][0]']                \n",
            "                                                                                                  \n",
            " batch_normalization_6 (BatchNo  (None, 12, 12, 32)  128         ['conv2d_6[0][0]']               \n",
            " rmalization)                                                                                     \n",
            "                                                                                                  \n",
            " re_lu_7 (ReLU)                 (None, 12, 12, 32)   0           ['batch_normalization_6[0][0]']  \n",
            "                                                                                                  \n",
            " conv2d_7 (Conv2D)              (None, 12, 12, 32)   1056        ['re_lu_7[0][0]']                \n",
            "                                                                                                  \n",
            " conv2d_8 (Conv2D)              (None, 12, 12, 32)   1056        ['max_pooling2d_1[0][0]']        \n",
            "                                                                                                  \n",
            " add_1 (Add)                    (None, 12, 12, 32)   0           ['conv2d_7[0][0]',               \n",
            "                                                                  'conv2d_8[0][0]']               \n",
            "                                                                                                  \n",
            " re_lu_8 (ReLU)                 (None, 12, 12, 32)   0           ['add_1[0][0]']                  \n",
            "                                                                                                  \n",
            " batch_normalization_7 (BatchNo  (None, 12, 12, 32)  128         ['re_lu_8[0][0]']                \n",
            " rmalization)                                                                                     \n",
            "                                                                                                  \n",
            " re_lu_9 (ReLU)                 (None, 12, 12, 32)   0           ['batch_normalization_7[0][0]']  \n",
            "                                                                                                  \n",
            " conv2d_9 (Conv2D)              (None, 12, 12, 32)   1056        ['re_lu_9[0][0]']                \n",
            "                                                                                                  \n",
            " batch_normalization_8 (BatchNo  (None, 12, 12, 32)  128         ['conv2d_9[0][0]']               \n",
            " rmalization)                                                                                     \n",
            "                                                                                                  \n",
            " re_lu_10 (ReLU)                (None, 12, 12, 32)   0           ['batch_normalization_8[0][0]']  \n",
            "                                                                                                  \n",
            " conv2d_10 (Conv2D)             (None, 12, 12, 32)   9248        ['re_lu_10[0][0]']               \n",
            "                                                                                                  \n",
            " batch_normalization_9 (BatchNo  (None, 12, 12, 32)  128         ['conv2d_10[0][0]']              \n",
            " rmalization)                                                                                     \n",
            "                                                                                                  \n",
            " re_lu_11 (ReLU)                (None, 12, 12, 32)   0           ['batch_normalization_9[0][0]']  \n",
            "                                                                                                  \n",
            " conv2d_11 (Conv2D)             (None, 12, 12, 64)   2112        ['re_lu_11[0][0]']               \n",
            "                                                                                                  \n",
            " conv2d_12 (Conv2D)             (None, 12, 12, 64)   2112        ['re_lu_8[0][0]']                \n",
            "                                                                                                  \n",
            " add_2 (Add)                    (None, 12, 12, 64)   0           ['conv2d_11[0][0]',              \n",
            "                                                                  'conv2d_12[0][0]']              \n",
            "                                                                                                  \n",
            " re_lu_12 (ReLU)                (None, 12, 12, 64)   0           ['add_2[0][0]']                  \n",
            "                                                                                                  \n",
            " max_pooling2d_2 (MaxPooling2D)  (None, 6, 6, 64)    0           ['re_lu_12[0][0]']               \n",
            "                                                                                                  \n",
            " batch_normalization_10 (BatchN  (None, 6, 6, 64)    256         ['max_pooling2d_2[0][0]']        \n",
            " ormalization)                                                                                    \n",
            "                                                                                                  \n",
            " re_lu_13 (ReLU)                (None, 6, 6, 64)     0           ['batch_normalization_10[0][0]'] \n",
            "                                                                                                  \n",
            " conv2d_13 (Conv2D)             (None, 6, 6, 64)     4160        ['re_lu_13[0][0]']               \n",
            "                                                                                                  \n",
            " batch_normalization_11 (BatchN  (None, 6, 6, 64)    256         ['conv2d_13[0][0]']              \n",
            " ormalization)                                                                                    \n",
            "                                                                                                  \n",
            " re_lu_14 (ReLU)                (None, 6, 6, 64)     0           ['batch_normalization_11[0][0]'] \n",
            "                                                                                                  \n",
            " conv2d_14 (Conv2D)             (None, 6, 6, 64)     36928       ['re_lu_14[0][0]']               \n",
            "                                                                                                  \n",
            " batch_normalization_12 (BatchN  (None, 6, 6, 64)    256         ['conv2d_14[0][0]']              \n",
            " ormalization)                                                                                    \n",
            "                                                                                                  \n",
            " re_lu_15 (ReLU)                (None, 6, 6, 64)     0           ['batch_normalization_12[0][0]'] \n",
            "                                                                                                  \n",
            " conv2d_15 (Conv2D)             (None, 6, 6, 64)     4160        ['re_lu_15[0][0]']               \n",
            "                                                                                                  \n",
            " conv2d_16 (Conv2D)             (None, 6, 6, 64)     4160        ['max_pooling2d_2[0][0]']        \n",
            "                                                                                                  \n",
            " add_3 (Add)                    (None, 6, 6, 64)     0           ['conv2d_15[0][0]',              \n",
            "                                                                  'conv2d_16[0][0]']              \n",
            "                                                                                                  \n",
            " re_lu_16 (ReLU)                (None, 6, 6, 64)     0           ['add_3[0][0]']                  \n",
            "                                                                                                  \n",
            " global_average_pooling2d (Glob  (None, 64)          0           ['re_lu_16[0][0]']               \n",
            " alAveragePooling2D)                                                                              \n",
            "                                                                                                  \n",
            " dense (Dense)                  (None, 32)           2080        ['global_average_pooling2d[0][0]'\n",
            "                                                                 ]                                \n",
            "                                                                                                  \n",
            " batch_normalization_13 (BatchN  (None, 32)          128         ['dense[0][0]']                  \n",
            " ormalization)                                                                                    \n",
            "                                                                                                  \n",
            " re_lu_17 (ReLU)                (None, 32)           0           ['batch_normalization_13[0][0]'] \n",
            "                                                                                                  \n",
            " dropout (Dropout)              (None, 32)           0           ['re_lu_17[0][0]']               \n",
            "                                                                                                  \n",
            " dense_1 (Dense)                (None, 10)           330         ['dropout[0][0]']                \n",
            "                                                                                                  \n",
            "==================================================================================================\n",
            "Total params: 84,522\n",
            "Trainable params: 83,562\n",
            "Non-trainable params: 960\n",
            "__________________________________________________________________________________________________\n"
          ]
        }
      ]
    },
    {
      "cell_type": "code",
      "source": [
        "from sklearn.model_selection import StratifiedKFold\n",
        "from tensorflow.keras.models import load_model\n",
        "from sklearn.metrics import accuracy_score\n",
        "\n",
        "acc_list = []\n",
        "pred_list = []\n",
        "skf = StratifiedKFold(n_splits=5)\n",
        "\n",
        "for fold,(train_index, val_index) in enumerate(skf.split(audio_mels_array, repeated_target)):\n",
        "\n",
        "  print(f'\\n********** {fold+1} fold **********')\n",
        "\n",
        "  preds_val_list = []\n",
        "  ### melspectrogram ###\n",
        "  model = build_model()\n",
        "  x_train, x_val, y_train, y_val = audio_mels_array[train_index], audio_mels_array[val_index], repeated_target[train_index], repeated_target[val_index]\n",
        "  filepath = f\"model.res_test_0615_mels_{fold}.hdf5\"\n",
        "  callbacks = [tf.keras.callbacks.ModelCheckpoint(filepath, monitor='val_loss', verbose=0, save_best_only=True, mode='min')]\n",
        "  history = model.fit(x_train, y_train, batch_size=32, epochs=50, validation_data=(x_val,y_val), callbacks=callbacks, verbose=0)\n",
        "  model = load_model(filepath)\n",
        "\n",
        "  preds_val = model.predict(x_val)\n",
        "  preds_val_list.append(preds_val)\n",
        "  preds_val_label = np.argmax(preds_val, axis=1)\n",
        "  pred_list.append(model.predict(audio_mels_array_test))\n",
        "  print(f'mels_model_acc : {accuracy_score(y_val,preds_val_label):.4f}')\n",
        "\n",
        "  ### mfcc ###\n",
        "  model = build_model()\n",
        "  x_train, x_val, y_train, y_val = audio_mfcc_array[train_index], audio_mfcc_array[val_index], repeated_target[train_index], repeated_target[val_index]\n",
        "  filepath = f\"model.res_test_0615_mfcc_{fold}.hdf5\"\n",
        "  callbacks = [tf.keras.callbacks.ModelCheckpoint(filepath, monitor='val_loss', verbose=0, save_best_only=True, mode='min')]\n",
        "  history = model.fit(x_train, y_train, batch_size=32, epochs=50, validation_data=(x_val,y_val), callbacks=callbacks, verbose=0)\n",
        "  model = load_model(filepath)\n",
        "\n",
        "  preds_val = model.predict(x_val)\n",
        "  preds_val_list.append(preds_val)\n",
        "  preds_val_label = np.argmax(preds_val, axis=1)\n",
        "  pred_list.append(model.predict(audio_mfcc_array_test))\n",
        "  print(f'mfcc_model_acc : {accuracy_score(y_val,preds_val_label):.4f}')\n",
        "\n",
        "  ### ensemble ###\n",
        "  val_pred_result = preds_val_list[0].copy()\n",
        "  for i in range(1, len(preds_val_list)):\n",
        "      val_pred_result += preds_val_list[i]\n",
        "  val_pred_label = np.argmax(val_pred_result, axis=1)\n",
        "  en_acc = accuracy_score(y_val,val_pred_label)\n",
        "  acc_list.append(en_acc)\n",
        "  print(f'ensemble_model_acc : {en_acc:.4f}')\n",
        "\n",
        "print(f'\\n\\nmean_acc : {np.mean(acc_list):.4f}')"
      ],
      "metadata": {
        "colab": {
          "base_uri": "https://localhost:8080/"
        },
        "id": "AhtCXHP1RyRh",
        "outputId": "0d792447-d907-4f23-9967-d501677d3ad0"
      },
      "execution_count": null,
      "outputs": [
        {
          "output_type": "stream",
          "name": "stdout",
          "text": [
            "\n",
            "********** 1 fold **********\n",
            "mels_model_acc : 0.9925\n",
            "mfcc_model_acc : 0.9600\n",
            "ensemble_model_acc : 0.9925\n",
            "\n",
            "********** 2 fold **********\n",
            "mels_model_acc : 0.9450\n",
            "mfcc_model_acc : 0.9225\n",
            "ensemble_model_acc : 0.9575\n",
            "\n",
            "********** 3 fold **********\n",
            "mels_model_acc : 0.9575\n",
            "mfcc_model_acc : 0.9600\n",
            "ensemble_model_acc : 0.9775\n",
            "\n",
            "********** 4 fold **********\n",
            "mels_model_acc : 0.9250\n",
            "mfcc_model_acc : 0.9550\n",
            "ensemble_model_acc : 0.9725\n",
            "\n",
            "********** 5 fold **********\n",
            "mels_model_acc : 0.9250\n",
            "mfcc_model_acc : 0.9300\n",
            "ensemble_model_acc : 0.9650\n",
            "\n",
            "\n",
            "mean_acc : 0.9730\n"
          ]
        }
      ]
    },
    {
      "cell_type": "code",
      "source": [
        "test_pred_result = pred_list[0].copy()\n",
        "for i in range(1, len(pred_list)):\n",
        "    test_pred_result += pred_list[i]\n",
        "\n",
        "submission['label'] = np.argmax(test_pred_result, axis=1)\n",
        "submission.head()\n",
        "submission.to_csv('./CNN.csv', index=False) "
      ],
      "metadata": {
        "id": "mCbWxQStRyTt"
      },
      "execution_count": null,
      "outputs": []
    },
    {
      "cell_type": "code",
      "source": [
        ""
      ],
      "metadata": {
        "id": "RXs__5fKRyWB"
      },
      "execution_count": null,
      "outputs": []
    }
  ]
}